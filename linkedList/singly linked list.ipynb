{
 "cells": [
  {
   "cell_type": "code",
   "execution_count": 104,
   "metadata": {},
   "outputs": [
    {
     "name": "stdout",
     "output_type": "stream",
     "text": [
      "1\n",
      "2\n",
      "3\n"
     ]
    }
   ],
   "source": [
    "class Node:\n",
    "    def __init__(self, data):\n",
    "        self.data = data\n",
    "        self.next = None\n",
    "\n",
    "class LinkedList:\n",
    "    def __int__(self):\n",
    "        self.head = None\n",
    "        \n",
    "    def printList(self):\n",
    "        temp = self.head\n",
    "        while(temp):\n",
    "            print(temp.data)\n",
    "            temp = temp.next\n",
    "\n",
    "if __name__ == \"__main__\":\n",
    "    llist = LinkedList()\n",
    "    llist.head = Node(1)\n",
    "    second = Node(2)\n",
    "    third = Node(3)\n",
    "    \n",
    "    llist.head.next = second\n",
    "    second.next = third\n",
    "    llist.printList()"
   ]
  },
  {
   "cell_type": "code",
   "execution_count": 105,
   "metadata": {},
   "outputs": [
    {
     "name": "stdout",
     "output_type": "stream",
     "text": [
      "my Lily which is 1 is most aborable\n"
     ]
    }
   ],
   "source": [
    "class Dogs:\n",
    "    species = \"mammels\"\n",
    "    \n",
    "\n",
    "    def __init__(self, name, age):\n",
    "            self.name = name\n",
    "            self.age = age\n",
    "\n",
    "Lily = Dogs(\"Lily\", 1)\n",
    "print(\"my {} which is {} is most aborable\".format(Lily.name, Lily.age))\n",
    "            "
   ]
  },
  {
   "cell_type": "code",
   "execution_count": 106,
   "metadata": {},
   "outputs": [
    {
     "name": "stdout",
     "output_type": "stream",
     "text": [
      "False\n",
      "True\n"
     ]
    }
   ],
   "source": [
    "class Email:\n",
    "    \n",
    "    def __init__(self):\n",
    "        self.is_sent = False\n",
    "        \n",
    "    def is_send(self):\n",
    "        self.is_sent = True\n",
    "        \n",
    "email = Email()\n",
    "print(email.is_sent)\n",
    "email.is_send()\n",
    "print(email.is_sent)"
   ]
  },
  {
   "cell_type": "code",
   "execution_count": 107,
   "metadata": {},
   "outputs": [
    {
     "name": "stdout",
     "output_type": "stream",
     "text": [
      "i misses tuffy, he was qute\n"
     ]
    }
   ],
   "source": [
    "class Dog:\n",
    "    \n",
    "    def __init__(self, name, age, bread):\n",
    "        self.name = name\n",
    "        self.age = age\n",
    "        self.bread = bread\n",
    "\n",
    "tuffy = Dog(\"tuffy\", 3, \"pug\")\n",
    "lili = Dog(\"Lili\", 1, \"Labro\")\n",
    "print(\"i misses {}, he was qute\".format(tuffy.name))"
   ]
  },
  {
   "cell_type": "code",
   "execution_count": 108,
   "metadata": {},
   "outputs": [],
   "source": [
    "class Dog:\n",
    "    \n",
    "    def __init__(self, name, age, bread):\n",
    "        self.name = name\n",
    "        self.age = age\n",
    "        self.bread = bread\n",
    "        \n",
    "    def description(self):\n",
    "        print(\"Name: {}, age: {}, bread: {}\".format(self.name, self.age, self.bread))\n",
    "    \n",
    "    def speaks(self, language):\n",
    "        self.language = language\n",
    "        print(\"language: {}\".format(self.language))\n",
    "\n",
    "\n",
    "tuffy =  Dog(\"tuffy\", 3, \"pug\")\n"
   ]
  },
  {
   "cell_type": "code",
   "execution_count": 109,
   "metadata": {},
   "outputs": [
    {
     "name": "stdout",
     "output_type": "stream",
     "text": [
      "Name: tuffy, age: 3, bread: pug\n"
     ]
    }
   ],
   "source": [
    "tuffy.description()"
   ]
  },
  {
   "cell_type": "code",
   "execution_count": 110,
   "metadata": {},
   "outputs": [
    {
     "name": "stdout",
     "output_type": "stream",
     "text": [
      "language: Bhaw\n"
     ]
    }
   ],
   "source": [
    "tuffy = tuffy.speaks(\"Bhaw\")"
   ]
  },
  {
   "cell_type": "code",
   "execution_count": 111,
   "metadata": {},
   "outputs": [],
   "source": [
    "\n",
    "class Speed(Dog):\n",
    "    def run(self, speed):\n",
    "        return \"{} runs {}\".format(self.name, speed)"
   ]
  },
  {
   "cell_type": "code",
   "execution_count": 112,
   "metadata": {},
   "outputs": [
    {
     "name": "stdout",
     "output_type": "stream",
     "text": [
      "Name: Lily, age: 1, bread: Labro\n"
     ]
    }
   ],
   "source": [
    "lili = Speed(\"Lily\", 1, \"Labro\")\n",
    "lili.description()"
   ]
  },
  {
   "cell_type": "code",
   "execution_count": 113,
   "metadata": {},
   "outputs": [
    {
     "data": {
      "text/plain": [
       "'Lily runs slowly'"
      ]
     },
     "execution_count": 113,
     "metadata": {},
     "output_type": "execute_result"
    }
   ],
   "source": [
    "lili.run(\"slowly\")"
   ]
  },
  {
   "cell_type": "code",
   "execution_count": 114,
   "metadata": {},
   "outputs": [
    {
     "name": "stdout",
     "output_type": "stream",
     "text": [
      "Jim is 12 years old\n",
      "Jim runs slowly\n",
      "True\n",
      "True\n",
      "False\n"
     ]
    },
    {
     "ename": "TypeError",
     "evalue": "isinstance() arg 2 must be a type or tuple of types",
     "output_type": "error",
     "traceback": [
      "\u001b[1;31m---------------------------------------------------------------------------\u001b[0m",
      "\u001b[1;31mTypeError\u001b[0m                                 Traceback (most recent call last)",
      "\u001b[1;32m<ipython-input-114-0f03e8bc4e30>\u001b[0m in \u001b[0;36m<module>\u001b[1;34m\u001b[0m\n\u001b[0;32m     51\u001b[0m \u001b[1;33m\u001b[0m\u001b[0m\n\u001b[0;32m     52\u001b[0m \u001b[1;31m# Is julie and instance of jim?\u001b[0m\u001b[1;33m\u001b[0m\u001b[1;33m\u001b[0m\u001b[1;33m\u001b[0m\u001b[0m\n\u001b[1;32m---> 53\u001b[1;33m \u001b[0mprint\u001b[0m\u001b[1;33m(\u001b[0m\u001b[0misinstance\u001b[0m\u001b[1;33m(\u001b[0m\u001b[0mjulie\u001b[0m\u001b[1;33m,\u001b[0m \u001b[0mjim\u001b[0m\u001b[1;33m)\u001b[0m\u001b[1;33m)\u001b[0m\u001b[1;33m\u001b[0m\u001b[1;33m\u001b[0m\u001b[0m\n\u001b[0m",
      "\u001b[1;31mTypeError\u001b[0m: isinstance() arg 2 must be a type or tuple of types"
     ]
    }
   ],
   "source": [
    "class Dog:\n",
    "\n",
    "    # Class attribute\n",
    "    species = 'mammal'\n",
    "\n",
    "    # Initializer / Instance attributes\n",
    "    def __init__(self, name, age):\n",
    "        self.name = name\n",
    "        self.age = age\n",
    "\n",
    "    # instance method\n",
    "    def description(self):\n",
    "        return \"{} is {} years old\".format(self.name, self.age)\n",
    "\n",
    "    # instance method\n",
    "    def speak(self, sound):\n",
    "        return \"{} says {}\".format(self.name, sound)\n",
    "\n",
    "# Child class (inherits from Dog() class)\n",
    "class RussellTerrier(Dog):\n",
    "    def run(self, speed):\n",
    "        return \"{} runs {}\".format(self.name, speed)\n",
    "\n",
    "\n",
    "# Child class (inherits from Dog() class)\n",
    "class Bulldog(Dog):\n",
    "    def run(self, speed):\n",
    "        return \"{} runs {}\".format(self.name, speed)\n",
    "\n",
    "\n",
    "# Child classes inherit attributes and\n",
    "# behaviors from the parent class\n",
    "jim = Bulldog(\"Jim\", 12)\n",
    "print(jim.description())\n",
    "\n",
    "# Child classes have specific attributes\n",
    "# and behaviors as well\n",
    "print(jim.run(\"slowly\"))\n",
    "\n",
    "\n",
    "# Is jim an instance of Dog()?\n",
    "print(isinstance(jim, Dog))\n",
    "\n",
    "# Is julie an instance of Dog()?\n",
    "julie = Dog(\"Julie\", 100)\n",
    "print(isinstance(julie, Dog))\n",
    "\n",
    "# Is johnny walker an instance of Bulldog()\n",
    "johnnywalker = RussellTerrier(\"Johnny Walker\", 4)\n",
    "print(isinstance(johnnywalker, Bulldog))\n",
    "\n",
    "# Is julie and instance of jim?\n",
    "print(isinstance(julie, jim))"
   ]
  },
  {
   "cell_type": "code",
   "execution_count": 224,
   "metadata": {},
   "outputs": [],
   "source": [
    "#create a node\n",
    "class Node:\n",
    "    def __init__(self, data):\n",
    "        self.data = data\n",
    "        self.next = None\n",
    "    \n",
    "#create a linkedList\n",
    "class LinkedList:\n",
    "    def __init__(self):\n",
    "        self.head = None\n",
    "        \n",
    "    def addBack(self, newNode):\n",
    "        if(self.head == None):\n",
    "            self.head = newNode\n",
    "        else:\n",
    "            lastNode = self.head\n",
    "            while(True):\n",
    "                if(lastNode.next == None):\n",
    "                    break\n",
    "                else:\n",
    "                    lastNode = lastNode.next\n",
    "            lastNode.next = newNode\n",
    "    \n",
    "    def printNode(self):\n",
    "        if(self.head == None):\n",
    "            return print(\"list is empty\")\n",
    "        currentNode = self.head\n",
    "        print(currentNode.data)\n",
    "        while(currentNode.next != None):\n",
    "            currentNode = currentNode.next\n",
    "            print(currentNode.data)\n",
    "    \n",
    "    def isEmpty(self):\n",
    "        return(self.head == Node)\n",
    "    \n",
    "    def addFront(self, value):\n",
    "        name = self.head\n",
    "        newNode = Node(value)\n",
    "        self.head = newNode\n",
    "        self.head.next = name\n",
    "    \n",
    "    def keyFront(self):\n",
    "        if(self.head == None):\n",
    "            return None\n",
    "        else:\n",
    "            print(self.head.data)\n",
    "    \n",
    "    def keyback(self):\n",
    "        node = self.head\n",
    "        while(True):\n",
    "            if(node.next == None):\n",
    "                print(node.data)\n",
    "                break\n",
    "            else:\n",
    "                node = node.next\n",
    "                \n",
    "    def addBefore(self, value2, value):\n",
    "        node = self.head\n",
    "        newNode = Node(value)\n",
    "        while(True):\n",
    "            if(node.next.data == value2):\n",
    "                node2 = node.next\n",
    "                node.next = newNode\n",
    "                newNode.next = node2\n",
    "                break\n",
    "            else:\n",
    "                node = node.next\n",
    "    \n",
    "    def popBack(self):\n",
    "        node = self.head\n",
    "        nextNode = self.head.next\n",
    "        while(True):\n",
    "            if(nextNode.next == None):\n",
    "                node.next = None\n",
    "                del nextNode\n",
    "                break\n",
    "            else:\n",
    "                node = nextNode\n",
    "                nextNode = nextNode.next\n",
    "                \n",
    "    def popFront(self):\n",
    "        nodeNext = self.head.next\n",
    "        self.head =  nodeNext\n",
    "    \n",
    "    def popAfter(self, value):\n",
    "        node = self.head\n",
    "        while(True):\n",
    "            if(node.data == value):\n",
    "                noToDel = node.next\n",
    "                nodeNext = noToDel.next\n",
    "                node.next = nodeNext\n",
    "                break\n",
    "            else:\n",
    "                node = node.next\n",
    "        del noToDel\n",
    "                \n",
    "        \n",
    "            \n",
    "    \n",
    "#add element to the linkedList\n",
    "firstNode = Node(\"rahul\")\n",
    "linkedList = LinkedList()\n",
    "linkedList.addBack(firstNode)\n",
    "secondNode = Node(\"akshay\")\n",
    "linkedList.addBack(secondNode)\n",
    "thirdNode = Node(\"vishal\")\n",
    "linkedList.addBack(thirdNode)\n",
    "#print the LinkedList\n",
    "\n",
    "    "
   ]
  },
  {
   "cell_type": "code",
   "execution_count": 225,
   "metadata": {},
   "outputs": [
    {
     "name": "stdout",
     "output_type": "stream",
     "text": [
      "rahul\n",
      "akshay\n",
      "vishal\n"
     ]
    }
   ],
   "source": [
    "linkedList.printNode()"
   ]
  },
  {
   "cell_type": "code",
   "execution_count": 226,
   "metadata": {},
   "outputs": [],
   "source": [
    "linkedList.addFront(\"saurabh\")"
   ]
  },
  {
   "cell_type": "code",
   "execution_count": 227,
   "metadata": {},
   "outputs": [
    {
     "name": "stdout",
     "output_type": "stream",
     "text": [
      "saurabh\n",
      "rahul\n",
      "akshay\n",
      "vishal\n"
     ]
    }
   ],
   "source": [
    "linkedList.printNode()"
   ]
  },
  {
   "cell_type": "code",
   "execution_count": 228,
   "metadata": {},
   "outputs": [
    {
     "data": {
      "text/plain": [
       "False"
      ]
     },
     "execution_count": 228,
     "metadata": {},
     "output_type": "execute_result"
    }
   ],
   "source": [
    "linkedList.isEmpty()"
   ]
  },
  {
   "cell_type": "code",
   "execution_count": 229,
   "metadata": {},
   "outputs": [],
   "source": [
    "linkedList.addFront(\"me\")"
   ]
  },
  {
   "cell_type": "code",
   "execution_count": 230,
   "metadata": {},
   "outputs": [
    {
     "name": "stdout",
     "output_type": "stream",
     "text": [
      "me\n",
      "saurabh\n",
      "rahul\n",
      "akshay\n",
      "vishal\n"
     ]
    }
   ],
   "source": [
    "linkedList.printNode()"
   ]
  },
  {
   "cell_type": "code",
   "execution_count": 231,
   "metadata": {},
   "outputs": [
    {
     "name": "stdout",
     "output_type": "stream",
     "text": [
      "me\n"
     ]
    }
   ],
   "source": [
    "linkedList.keyFront()"
   ]
  },
  {
   "cell_type": "code",
   "execution_count": 232,
   "metadata": {},
   "outputs": [
    {
     "name": "stdout",
     "output_type": "stream",
     "text": [
      "vishal\n"
     ]
    }
   ],
   "source": [
    "linkedList.keyback()"
   ]
  },
  {
   "cell_type": "code",
   "execution_count": 233,
   "metadata": {},
   "outputs": [
    {
     "name": "stdout",
     "output_type": "stream",
     "text": [
      "me\n",
      "saurabh\n",
      "rahul\n",
      "akshay\n",
      "vishal\n"
     ]
    }
   ],
   "source": [
    "linkedList.printNode()"
   ]
  },
  {
   "cell_type": "code",
   "execution_count": 234,
   "metadata": {},
   "outputs": [],
   "source": [
    "linkedList.addBefore(\"rahul\",\"shashank\")"
   ]
  },
  {
   "cell_type": "code",
   "execution_count": 235,
   "metadata": {},
   "outputs": [
    {
     "name": "stdout",
     "output_type": "stream",
     "text": [
      "me\n",
      "saurabh\n",
      "shashank\n",
      "rahul\n",
      "akshay\n",
      "vishal\n"
     ]
    }
   ],
   "source": [
    "linkedList.printNode()"
   ]
  },
  {
   "cell_type": "code",
   "execution_count": 236,
   "metadata": {},
   "outputs": [],
   "source": [
    "linkedList.popBack()"
   ]
  },
  {
   "cell_type": "code",
   "execution_count": 237,
   "metadata": {},
   "outputs": [
    {
     "name": "stdout",
     "output_type": "stream",
     "text": [
      "me\n",
      "saurabh\n",
      "shashank\n",
      "rahul\n",
      "akshay\n"
     ]
    }
   ],
   "source": [
    "linkedList.printNode()"
   ]
  },
  {
   "cell_type": "code",
   "execution_count": 238,
   "metadata": {},
   "outputs": [],
   "source": [
    "linkedList.popFront()"
   ]
  },
  {
   "cell_type": "code",
   "execution_count": 239,
   "metadata": {},
   "outputs": [
    {
     "name": "stdout",
     "output_type": "stream",
     "text": [
      "saurabh\n",
      "shashank\n",
      "rahul\n",
      "akshay\n"
     ]
    }
   ],
   "source": [
    "linkedList.printNode()"
   ]
  },
  {
   "cell_type": "code",
   "execution_count": 240,
   "metadata": {},
   "outputs": [],
   "source": [
    "linkedList.popAfter(\"shashank\")"
   ]
  },
  {
   "cell_type": "code",
   "execution_count": 241,
   "metadata": {},
   "outputs": [
    {
     "name": "stdout",
     "output_type": "stream",
     "text": [
      "saurabh\n",
      "shashank\n",
      "akshay\n"
     ]
    }
   ],
   "source": [
    "linkedList.printNode()"
   ]
  },
  {
   "cell_type": "code",
   "execution_count": null,
   "metadata": {},
   "outputs": [],
   "source": []
  }
 ],
 "metadata": {
  "kernelspec": {
   "display_name": "Python 3",
   "language": "python",
   "name": "python3"
  },
  "language_info": {
   "codemirror_mode": {
    "name": "ipython",
    "version": 3
   },
   "file_extension": ".py",
   "mimetype": "text/x-python",
   "name": "python",
   "nbconvert_exporter": "python",
   "pygments_lexer": "ipython3",
   "version": "3.7.5"
  }
 },
 "nbformat": 4,
 "nbformat_minor": 2
}
